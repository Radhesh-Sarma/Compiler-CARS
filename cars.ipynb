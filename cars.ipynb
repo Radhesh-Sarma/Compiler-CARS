{
  "nbformat": 4,
  "nbformat_minor": 0,
  "metadata": {
    "kernelspec": {
      "display_name": "Python 3",
      "language": "python",
      "name": "python3"
    },
    "language_info": {
      "codemirror_mode": {
        "name": "ipython",
        "version": 3
      },
      "file_extension": ".py",
      "mimetype": "text/x-python",
      "name": "python",
      "nbconvert_exporter": "python",
      "pygments_lexer": "ipython3",
      "version": "3.8.5"
    },
    "colab": {
      "name": "cars.ipynb",
      "provenance": []
    }
  },
  "cells": [
    {
      "cell_type": "markdown",
      "metadata": {
        "id": "jYMCkh7ONdyD"
      },
      "source": [
        "#CARS"
      ]
    },
    {
      "cell_type": "markdown",
      "metadata": {
        "id": "Q-X1O5OxNo0D"
      },
      "source": [
        "## Class Token"
      ]
    },
    {
      "cell_type": "code",
      "metadata": {
        "id": "c6HRGMTGMXbW"
      },
      "source": [
        "class Token:\n",
        "    __token_list = {}\n",
        "    __counter = 1\n",
        "    __token_types = ['keyword','operator','delimiter','identifier','integer literal','floating point literal','identifier']\n",
        "    def __init__(self,kind,string):\n",
        "        if kind not in Token.__token_types:\n",
        "          raise ValueError\n",
        "        self.kind = kind\n",
        "        self.string = string\n",
        "        self.number = self.__counter\n",
        "        Token.__counter += 1\n",
        "        Token.__token_list[self.string] = {'kind':self.kind , 'string':self.string, 'number':self.number}\n",
        "        \n",
        "    @staticmethod\n",
        "    def is_valid(string):\n",
        "        return string in Token.__token_list.keys() and Token.__token_list[string]['kind'] != 'identifier'\n",
        "    \n",
        "    @staticmethod\n",
        "    def get_token_details(string):\n",
        "        if(Token.is_valid(string)):\n",
        "            return Token.__token_list[string]\n",
        "        ob = Token('identifier',string)\n",
        "        return Token.__token_list[string]\n",
        "    \n",
        "    @staticmethod\n",
        "    def print_all_tokens():\n",
        "        for token in Token.__token_list:\n",
        "            print(token)"
      ],
      "execution_count": 37,
      "outputs": []
    },
    {
      "cell_type": "markdown",
      "metadata": {
        "id": "csKCW8HRNtuJ"
      },
      "source": [
        "##Making Token objects"
      ]
    },
    {
      "cell_type": "code",
      "metadata": {
        "id": "LVgiRjehMXbi"
      },
      "source": [
        "keywords = ['int','float','boolean','string','while','until','if','else','true','false']"
      ],
      "execution_count": 38,
      "outputs": []
    },
    {
      "cell_type": "code",
      "metadata": {
        "id": "YD2nFLdAMXbi"
      },
      "source": [
        "for keyword in keywords:\n",
        "    Token('keyword',keyword)"
      ],
      "execution_count": 39,
      "outputs": []
    },
    {
      "cell_type": "code",
      "metadata": {
        "id": "DrJjrWGfMXbi"
      },
      "source": [
        "operators = ['+','-','*','/','%',':=','==','>','<','>=','<=','!=','&&','||','!','?',':']\n"
      ],
      "execution_count": 40,
      "outputs": []
    },
    {
      "cell_type": "code",
      "metadata": {
        "id": "jxCjJ616MXbj"
      },
      "source": [
        "for operator in operators:\n",
        "    Token('operator',operator)"
      ],
      "execution_count": 41,
      "outputs": []
    },
    {
      "cell_type": "code",
      "metadata": {
        "id": "rk0svt8UMXbj"
      },
      "source": [
        "delimiters = ['{','}','(',')','[',']',',',';']"
      ],
      "execution_count": 42,
      "outputs": []
    },
    {
      "cell_type": "code",
      "metadata": {
        "id": "gASUqzQMMXbj"
      },
      "source": [
        "for delimiter in delimiters:\n",
        "    Token('delimiter',delimiter)"
      ],
      "execution_count": 43,
      "outputs": []
    },
    {
      "cell_type": "markdown",
      "metadata": {
        "id": "hA00tYvoN3vr"
      },
      "source": [
        "##List of Tokens"
      ]
    },
    {
      "cell_type": "code",
      "metadata": {
        "colab": {
          "base_uri": "https://localhost:8080/"
        },
        "id": "j8o52LrxMXbj",
        "outputId": "e31dad4a-2f23-4201-a4c4-04597ebd0245"
      },
      "source": [
        "Token.print_all_tokens()\n"
      ],
      "execution_count": 44,
      "outputs": [
        {
          "output_type": "stream",
          "text": [
            "int\n",
            "float\n",
            "boolean\n",
            "string\n",
            "while\n",
            "until\n",
            "if\n",
            "else\n",
            "true\n",
            "false\n",
            "+\n",
            "-\n",
            "*\n",
            "/\n",
            "%\n",
            ":=\n",
            "==\n",
            ">\n",
            "<\n",
            ">=\n",
            "<=\n",
            "!=\n",
            "&&\n",
            "||\n",
            "!\n",
            "?\n",
            ":\n",
            "{\n",
            "}\n",
            "(\n",
            ")\n",
            "[\n",
            "]\n",
            ",\n",
            ";\n"
          ],
          "name": "stdout"
        }
      ]
    },
    {
      "cell_type": "code",
      "metadata": {
        "id": "nimUiEEAMXbk"
      },
      "source": [
        "input = \"\"\"\n",
        "\n",
        "int fact( int n) {\n",
        "if (n <= 1)\n",
        "return 1;\n",
        "else\n",
        "return n*fact(n-1);\n",
        "}\n",
        "\"\"\""
      ],
      "execution_count": 45,
      "outputs": []
    },
    {
      "cell_type": "code",
      "metadata": {
        "colab": {
          "base_uri": "https://localhost:8080/"
        },
        "id": "rAr0DsNTMXbl",
        "outputId": "27ca7f47-7bb3-4331-c532-243c3969f0a3"
      },
      "source": [
        "print(input)"
      ],
      "execution_count": 46,
      "outputs": [
        {
          "output_type": "stream",
          "text": [
            "\n",
            "\n",
            "int fact( int n) {\n",
            "if (n <= 1)\n",
            "return 1;\n",
            "else\n",
            "return n*fact(n-1);\n",
            "}\n",
            "\n"
          ],
          "name": "stdout"
        }
      ]
    },
    {
      "cell_type": "markdown",
      "metadata": {
        "id": "kCmJsfzcN-fY"
      },
      "source": [
        "#Parsing Tokens"
      ]
    },
    {
      "cell_type": "code",
      "metadata": {
        "colab": {
          "base_uri": "https://localhost:8080/"
        },
        "id": "OLdiyO66MXbl",
        "outputId": "5c6c72f7-0037-4d17-9964-7a0fe53118d6"
      },
      "source": [
        "ch = ''\n",
        "line_number = 0\n",
        "for line in input.splitlines():\n",
        "    line_number += 1\n",
        "    for i in line:\n",
        "        if(ord(i) == 32):\n",
        "            if(ch != ''):\n",
        "                print(\"string \" + str(ch) + \" \", \" Token Details : \" + str(Token.get_token_details(ch)), \" Line number \" + str(line_number))\n",
        "            ch = ''\n",
        "        elif(Token.is_valid(i)):\n",
        "#             print(\"here\",ch,i,ord(i))\n",
        "            if(ch != ''):\n",
        "                print(\"string \" + str(ch) + \" \",\" Token Details : \" + str(Token.get_token_details(ch)), \" Line number \" + str(line_number))\n",
        "            print(\"string \" + str(i) + \" \",\" Token Details : \" + str(Token.get_token_details(i)), \" Line number \" + str(line_number))\n",
        "            ch = ''\n",
        "        else:\n",
        "            ch += i\n",
        "            if(Token.is_valid(ch)):\n",
        "                print(\"string \" + str(ch) + \" \",\" Token Details : \" + str(Token.get_token_details(ch)), \" Line number \" + str(line_number))\n",
        "                ch = ''\n",
        "#         print(i,ch)        "
      ],
      "execution_count": 47,
      "outputs": [
        {
          "output_type": "stream",
          "text": [
            "string int   Token Details : {'kind': 'keyword', 'string': 'int', 'number': 1}  Line number 3\n",
            "string fact   Token Details : {'kind': 'identifier', 'string': 'fact', 'number': 36}  Line number 3\n",
            "string (   Token Details : {'kind': 'delimiter', 'string': '(', 'number': 30}  Line number 3\n",
            "string int   Token Details : {'kind': 'keyword', 'string': 'int', 'number': 1}  Line number 3\n",
            "string n   Token Details : {'kind': 'identifier', 'string': 'n', 'number': 37}  Line number 3\n",
            "string )   Token Details : {'kind': 'delimiter', 'string': ')', 'number': 31}  Line number 3\n",
            "string {   Token Details : {'kind': 'delimiter', 'string': '{', 'number': 28}  Line number 3\n",
            "string if   Token Details : {'kind': 'keyword', 'string': 'if', 'number': 7}  Line number 4\n",
            "string (   Token Details : {'kind': 'delimiter', 'string': '(', 'number': 30}  Line number 4\n",
            "string n   Token Details : {'kind': 'identifier', 'string': 'n', 'number': 38}  Line number 4\n",
            "string <   Token Details : {'kind': 'operator', 'string': '<', 'number': 19}  Line number 4\n",
            "string =   Token Details : {'kind': 'identifier', 'string': '=', 'number': 39}  Line number 4\n",
            "string 1   Token Details : {'kind': 'identifier', 'string': '1', 'number': 40}  Line number 4\n",
            "string )   Token Details : {'kind': 'delimiter', 'string': ')', 'number': 31}  Line number 4\n",
            "string return   Token Details : {'kind': 'identifier', 'string': 'return', 'number': 41}  Line number 5\n",
            "string 1   Token Details : {'kind': 'identifier', 'string': '1', 'number': 42}  Line number 5\n",
            "string ;   Token Details : {'kind': 'delimiter', 'string': ';', 'number': 35}  Line number 5\n",
            "string else   Token Details : {'kind': 'keyword', 'string': 'else', 'number': 8}  Line number 6\n",
            "string return   Token Details : {'kind': 'identifier', 'string': 'return', 'number': 43}  Line number 7\n",
            "string n   Token Details : {'kind': 'identifier', 'string': 'n', 'number': 44}  Line number 7\n",
            "string *   Token Details : {'kind': 'operator', 'string': '*', 'number': 13}  Line number 7\n",
            "string fact   Token Details : {'kind': 'identifier', 'string': 'fact', 'number': 45}  Line number 7\n",
            "string (   Token Details : {'kind': 'delimiter', 'string': '(', 'number': 30}  Line number 7\n",
            "string n   Token Details : {'kind': 'identifier', 'string': 'n', 'number': 46}  Line number 7\n",
            "string -   Token Details : {'kind': 'operator', 'string': '-', 'number': 12}  Line number 7\n",
            "string 1   Token Details : {'kind': 'identifier', 'string': '1', 'number': 47}  Line number 7\n",
            "string )   Token Details : {'kind': 'delimiter', 'string': ')', 'number': 31}  Line number 7\n",
            "string ;   Token Details : {'kind': 'delimiter', 'string': ';', 'number': 35}  Line number 7\n",
            "string }   Token Details : {'kind': 'delimiter', 'string': '}', 'number': 29}  Line number 8\n"
          ],
          "name": "stdout"
        }
      ]
    },
    {
      "cell_type": "code",
      "metadata": {
        "id": "skGeasRAMXbm"
      },
      "source": [
        ""
      ],
      "execution_count": null,
      "outputs": []
    }
  ]
}