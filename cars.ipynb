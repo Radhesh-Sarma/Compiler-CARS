{
 "cells": [
  {
   "cell_type": "code",
   "execution_count": 51,
   "metadata": {},
   "outputs": [],
   "source": [
    "class Token:\n",
    "    __token_list = {}\n",
    "    __counter = 1\n",
    "    __token_types = ['keyword','operator','delimiter','identifier','integer literal','floating point literal','identifier']\n",
    "    def __init__(self,kind,string):\n",
    "        self.kind = kind\n",
    "        self.string = string\n",
    "        self.number = self.__counter\n",
    "        Token.__counter += 1\n",
    "        Token.__token_list[self.string] = {'kind':self.kind , 'string':self.string, 'number':self.number}\n",
    "        \n",
    "    @staticmethod\n",
    "    def is_valid(string):\n",
    "        return string in Token.__token_list.keys() and Token.__token_list[string]['kind'] != 'identifier'\n",
    "    \n",
    "    @staticmethod\n",
    "    def get_token_details(string):\n",
    "        if(Token.is_valid(string)):\n",
    "            return Token.__token_list[string]\n",
    "        ob = Token('identifier',string)\n",
    "        return Token.__token_list[string]\n",
    "    \n",
    "    @staticmethod\n",
    "    def print_all_tokens():\n",
    "        for token in Token.__token_list:\n",
    "            print(token)"
   ]
  },
  {
   "cell_type": "code",
   "execution_count": 52,
   "metadata": {},
   "outputs": [],
   "source": [
    "keywords = ['int','float','boolean','string','while','until','if','else','true','false']"
   ]
  },
  {
   "cell_type": "code",
   "execution_count": 53,
   "metadata": {},
   "outputs": [],
   "source": [
    "for keyword in keywords:\n",
    "    Token('keyword',keyword)"
   ]
  },
  {
   "cell_type": "code",
   "execution_count": 54,
   "metadata": {},
   "outputs": [],
   "source": [
    "operators = ['+','-','*','/','%',':=','==','>','<','>=','<=','!=','&&','||','!','?',':']\n"
   ]
  },
  {
   "cell_type": "code",
   "execution_count": 55,
   "metadata": {},
   "outputs": [],
   "source": [
    "for operator in operators:\n",
    "    Token('operator',operator)"
   ]
  },
  {
   "cell_type": "code",
   "execution_count": 56,
   "metadata": {},
   "outputs": [],
   "source": [
    "delimiters = ['{','}','(',')','[',']',',',';']"
   ]
  },
  {
   "cell_type": "code",
   "execution_count": 57,
   "metadata": {},
   "outputs": [],
   "source": [
    "for delimiter in delimiters:\n",
    "    Token('delimiter',delimiter)"
   ]
  },
  {
   "cell_type": "code",
   "execution_count": 58,
   "metadata": {},
   "outputs": [
    {
     "name": "stdout",
     "output_type": "stream",
     "text": [
      "int\n",
      "float\n",
      "boolean\n",
      "string\n",
      "while\n",
      "until\n",
      "if\n",
      "else\n",
      "true\n",
      "false\n",
      "+\n",
      "-\n",
      "*\n",
      "/\n",
      "%\n",
      ":=\n",
      "==\n",
      ">\n",
      "<\n",
      ">=\n",
      "<=\n",
      "!=\n",
      "&&\n",
      "||\n",
      "!\n",
      "?\n",
      ":\n",
      "{\n",
      "}\n",
      "(\n",
      ")\n",
      "[\n",
      "]\n",
      ",\n",
      ";\n"
     ]
    }
   ],
   "source": [
    "Token.print_all_tokens()\n"
   ]
  },
  {
   "cell_type": "code",
   "execution_count": 59,
   "metadata": {},
   "outputs": [],
   "source": [
    "input = \"\"\"\n",
    "\n",
    "int fact( int n) {\n",
    "if (n <= 1)\n",
    "return 1;\n",
    "else\n",
    "return n*fact(n-1);\n",
    "}\n",
    "\"\"\""
   ]
  },
  {
   "cell_type": "code",
   "execution_count": 60,
   "metadata": {},
   "outputs": [
    {
     "name": "stdout",
     "output_type": "stream",
     "text": [
      "\n",
      "\n",
      "int fact( int n) {\n",
      "if (n <= 1)\n",
      "return 1;\n",
      "else\n",
      "return n*fact(n-1);\n",
      "}\n",
      "\n"
     ]
    }
   ],
   "source": [
    "print(input)"
   ]
  },
  {
   "cell_type": "code",
   "execution_count": null,
   "metadata": {},
   "outputs": [],
   "source": []
  },
  {
   "cell_type": "code",
   "execution_count": 61,
   "metadata": {},
   "outputs": [
    {
     "name": "stdout",
     "output_type": "stream",
     "text": [
      "string int   Token Details : {'kind': 'keyword', 'string': 'int', 'number': 1}  Line number 3\n",
      "string fact   Token Details : {'kind': 'identifier', 'string': 'fact', 'number': 36}  Line number 3\n",
      "string (   Token Details : {'kind': 'delimiter', 'string': '(', 'number': 30}  Line number 3\n",
      "string int   Token Details : {'kind': 'keyword', 'string': 'int', 'number': 1}  Line number 3\n",
      "string n   Token Details : {'kind': 'identifier', 'string': 'n', 'number': 37}  Line number 3\n",
      "string )   Token Details : {'kind': 'delimiter', 'string': ')', 'number': 31}  Line number 3\n",
      "string {   Token Details : {'kind': 'delimiter', 'string': '{', 'number': 28}  Line number 3\n",
      "string if   Token Details : {'kind': 'keyword', 'string': 'if', 'number': 7}  Line number 4\n",
      "string (   Token Details : {'kind': 'delimiter', 'string': '(', 'number': 30}  Line number 4\n",
      "string n   Token Details : {'kind': 'identifier', 'string': 'n', 'number': 38}  Line number 4\n",
      "string <   Token Details : {'kind': 'operator', 'string': '<', 'number': 19}  Line number 4\n",
      "string =   Token Details : {'kind': 'identifier', 'string': '=', 'number': 39}  Line number 4\n",
      "string 1   Token Details : {'kind': 'identifier', 'string': '1', 'number': 40}  Line number 4\n",
      "string )   Token Details : {'kind': 'delimiter', 'string': ')', 'number': 31}  Line number 4\n",
      "string return   Token Details : {'kind': 'identifier', 'string': 'return', 'number': 41}  Line number 5\n",
      "string 1   Token Details : {'kind': 'identifier', 'string': '1', 'number': 42}  Line number 5\n",
      "string ;   Token Details : {'kind': 'delimiter', 'string': ';', 'number': 35}  Line number 5\n",
      "string else   Token Details : {'kind': 'keyword', 'string': 'else', 'number': 8}  Line number 6\n",
      "string return   Token Details : {'kind': 'identifier', 'string': 'return', 'number': 43}  Line number 7\n",
      "string n   Token Details : {'kind': 'identifier', 'string': 'n', 'number': 44}  Line number 7\n",
      "string *   Token Details : {'kind': 'operator', 'string': '*', 'number': 13}  Line number 7\n",
      "string fact   Token Details : {'kind': 'identifier', 'string': 'fact', 'number': 45}  Line number 7\n",
      "string (   Token Details : {'kind': 'delimiter', 'string': '(', 'number': 30}  Line number 7\n",
      "string n   Token Details : {'kind': 'identifier', 'string': 'n', 'number': 46}  Line number 7\n",
      "string -   Token Details : {'kind': 'operator', 'string': '-', 'number': 12}  Line number 7\n",
      "string 1   Token Details : {'kind': 'identifier', 'string': '1', 'number': 47}  Line number 7\n",
      "string )   Token Details : {'kind': 'delimiter', 'string': ')', 'number': 31}  Line number 7\n",
      "string ;   Token Details : {'kind': 'delimiter', 'string': ';', 'number': 35}  Line number 7\n",
      "string }   Token Details : {'kind': 'delimiter', 'string': '}', 'number': 29}  Line number 8\n"
     ]
    }
   ],
   "source": [
    "ch = ''\n",
    "line_number = 0\n",
    "for line in input.splitlines():\n",
    "    line_number += 1\n",
    "    for i in line:\n",
    "        if(ord(i) == 32):\n",
    "            if(ch != ''):\n",
    "                print(\"string \" + str(ch) + \" \", \" Token Details : \" + str(Token.get_token_details(ch)), \" Line number \" + str(line_number))\n",
    "            ch = ''\n",
    "        elif(Token.is_valid(i)):\n",
    "#             print(\"here\",ch,i,ord(i))\n",
    "            if(ch != ''):\n",
    "                print(\"string \" + str(ch) + \" \",\" Token Details : \" + str(Token.get_token_details(ch)), \" Line number \" + str(line_number))\n",
    "            print(\"string \" + str(i) + \" \",\" Token Details : \" + str(Token.get_token_details(i)), \" Line number \" + str(line_number))\n",
    "            ch = ''\n",
    "        else:\n",
    "            ch += i\n",
    "            if(Token.is_valid(ch)):\n",
    "                print(\"string \" + str(ch) + \" \",\" Token Details : \" + str(Token.get_token_details(ch)), \" Line number \" + str(line_number))\n",
    "                ch = ''\n",
    "#         print(i,ch)        "
   ]
  },
  {
   "cell_type": "code",
   "execution_count": 62,
   "metadata": {},
   "outputs": [
    {
     "data": {
      "text/plain": [
       "True"
      ]
     },
     "execution_count": 62,
     "metadata": {},
     "output_type": "execute_result"
    }
   ],
   "source": [
    "Token.is_valid('(')"
   ]
  },
  {
   "cell_type": "code",
   "execution_count": 63,
   "metadata": {},
   "outputs": [
    {
     "name": "stdout",
     "output_type": "stream",
     "text": [
      "{'kind': 'delimiter', 'string': '(', 'number': 30}\n"
     ]
    }
   ],
   "source": [
    "print(Token.get_token_details('('))"
   ]
  },
  {
   "cell_type": "code",
   "execution_count": null,
   "metadata": {},
   "outputs": [],
   "source": []
  }
 ],
 "metadata": {
  "kernelspec": {
   "display_name": "Python 3",
   "language": "python",
   "name": "python3"
  },
  "language_info": {
   "codemirror_mode": {
    "name": "ipython",
    "version": 3
   },
   "file_extension": ".py",
   "mimetype": "text/x-python",
   "name": "python",
   "nbconvert_exporter": "python",
   "pygments_lexer": "ipython3",
   "version": "3.8.5"
  }
 },
 "nbformat": 4,
 "nbformat_minor": 4
}
