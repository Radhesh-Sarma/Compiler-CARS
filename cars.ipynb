{
 "cells": [
  {
   "cell_type": "code",
   "execution_count": null,
   "metadata": {},
   "outputs": [],
   "source": [
    "class Token:\n",
    "    __token_list = {}\n",
    "    __counter = 1\n",
    "    __token_types = ['keyword','operator','delimiter','identifier','integer literal','floating point literal','identifier']\n",
    "    def __init__(self,kind,string):\n",
    "        self.kind = kind\n",
    "        self.string = string\n",
    "        self.number = self.__counter\n",
    "        Token.__counter += 1\n",
    "        Token.__token_list[self.string] = {'kind':self.kind , 'string':self.string, 'number':self.number}\n",
    "        \n",
    "    @staticmethod\n",
    "    def is_valid(string):\n",
    "        return string in Token.__token_list.keys() and Token.__token_list[string]['kind'] != 'identifier'\n",
    "    \n",
    "    @staticmethod\n",
    "    def get_token_details(string):\n",
    "        if(Token.is_valid(string)):\n",
    "            return Token.__token_list[string]\n",
    "        ob = Token('identifier',string)\n",
    "        return Token.__token_list[string]\n",
    "    \n",
    "    @staticmethod\n",
    "    def print_all_tokens():\n",
    "        for token in Token.__token_list:\n",
    "            print(token)"
   ]
  },
  {
   "cell_type": "code",
   "execution_count": null,
   "metadata": {},
   "outputs": [],
   "source": [
    "keywords = ['int','float','boolean','string','while','until','if','else','true','false']"
   ]
  },
  {
   "cell_type": "code",
   "execution_count": null,
   "metadata": {},
   "outputs": [],
   "source": [
    "for keyword in keywords:\n",
    "    Token('keyword',keyword)"
   ]
  },
  {
   "cell_type": "code",
   "execution_count": null,
   "metadata": {},
   "outputs": [],
   "source": [
    "operators = ['+','-','*','/','%',':=','==','>','<','>=','<=','!=','&&','||','!','?',':']\n"
   ]
  },
  {
   "cell_type": "code",
   "execution_count": null,
   "metadata": {},
   "outputs": [],
   "source": [
    "for operator in operators:\n",
    "    Token('operator',operator)"
   ]
  },
  {
   "cell_type": "code",
   "execution_count": null,
   "metadata": {},
   "outputs": [],
   "source": [
    "delimiters = ['{','}','(',')','[',']',',',';']"
   ]
  },
  {
   "cell_type": "code",
   "execution_count": null,
   "metadata": {},
   "outputs": [],
   "source": [
    "for delimiter in delimiters:\n",
    "    Token('delimiter',delimiter)"
   ]
  },
  {
   "cell_type": "code",
   "execution_count": null,
   "metadata": {},
   "outputs": [],
   "source": [
    "Token.print_all_tokens()\n"
   ]
  },
  {
   "cell_type": "code",
   "execution_count": null,
   "metadata": {},
   "outputs": [],
   "source": [
    "input = \"\"\"\n",
    "\n",
    "int fact( int n) {\n",
    "if (n <= 1)\n",
    "return 1;\n",
    "else\n",
    "return n*fact(n-1);\n",
    "}\n",
    "\"\"\""
   ]
  },
  {
   "cell_type": "code",
   "execution_count": null,
   "metadata": {},
   "outputs": [],
   "source": [
    "print(input)"
   ]
  },
  {
   "cell_type": "code",
   "execution_count": null,
   "metadata": {},
   "outputs": [],
   "source": []
  },
  {
   "cell_type": "code",
   "execution_count": null,
   "metadata": {},
   "outputs": [],
   "source": [
    "ch = ''\n",
    "line_number = 0\n",
    "for line in input.splitlines():\n",
    "    line_number += 1\n",
    "    for i in line:\n",
    "        if(ord(i) == 32):\n",
    "            if(ch != ''):\n",
    "                print(\"string \" + str(ch) + \" \", \" Token Details : \" + str(Token.get_token_details(ch)), \" Line number \" + str(line_number))\n",
    "            ch = ''\n",
    "        elif(Token.is_valid(i)):\n",
    "#             print(\"here\",ch,i,ord(i))\n",
    "            if(ch != ''):\n",
    "                print(\"string \" + str(ch) + \" \",\" Token Details : \" + str(Token.get_token_details(ch)), \" Line number \" + str(line_number))\n",
    "            print(\"string \" + str(i) + \" \",\" Token Details : \" + str(Token.get_token_details(i)), \" Line number \" + str(line_number))\n",
    "            ch = ''\n",
    "        else:\n",
    "            ch += i\n",
    "            if(Token.is_valid(ch)):\n",
    "                print(\"string \" + str(ch) + \" \",\" Token Details : \" + str(Token.get_token_details(ch)), \" Line number \" + str(line_number))\n",
    "                ch = ''\n",
    "#         print(i,ch)        "
   ]
  },
  {
   "cell_type": "code",
   "execution_count": 381,
   "metadata": {},
   "outputs": [
    {
     "data": {
      "text/plain": [
       "True"
      ]
     },
     "execution_count": 381,
     "metadata": {},
     "output_type": "execute_result"
    }
   ],
   "source": [
    "Token.is_valid('(')"
   ]
  },
  {
   "cell_type": "code",
   "execution_count": 293,
   "metadata": {},
   "outputs": [
    {
     "name": "stdout",
     "output_type": "stream",
     "text": [
      "{'kind': 'delimiter', 'string': '(', 'number': 30}\n"
     ]
    }
   ],
   "source": [
    "print(Token.get_token_details('('))"
   ]
  },
  {
   "cell_type": "code",
   "execution_count": null,
   "metadata": {},
   "outputs": [],
   "source": []
  }
 ],
 "metadata": {
  "kernelspec": {
   "display_name": "Python 3",
   "language": "python",
   "name": "python3"
  },
  "language_info": {
   "codemirror_mode": {
    "name": "ipython",
    "version": 3
   },
   "file_extension": ".py",
   "mimetype": "text/x-python",
   "name": "python",
   "nbconvert_exporter": "python",
   "pygments_lexer": "ipython3",
   "version": "3.8.5"
  }
 },
 "nbformat": 4,
 "nbformat_minor": 4
}
